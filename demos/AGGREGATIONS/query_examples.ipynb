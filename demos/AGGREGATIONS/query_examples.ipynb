{
 "cells": [
  {
   "cell_type": "markdown",
   "metadata": {},
   "source": [
    "## Install Prerequisites"
   ]
  },
  {
   "cell_type": "code",
   "execution_count": 3,
   "metadata": {},
   "outputs": [
    {
     "name": "stdout",
     "output_type": "stream",
     "text": [
      "Requirement already satisfied: pymongo[srv] in /Users/tom.mccarthy/Projects/tommcc-demos/.venv/lib/python3.10/site-packages (4.2.0)\n",
      "Requirement already satisfied: dnspython<3.0.0,>=1.16.0 in /Users/tom.mccarthy/Projects/tommcc-demos/.venv/lib/python3.10/site-packages (from pymongo[srv]) (2.2.1)\n",
      "\u001b[33mWARNING: You are using pip version 22.0.4; however, version 22.2.2 is available.\n",
      "You should consider upgrading via the '/Users/tom.mccarthy/Projects/tommcc-demos/.venv/bin/python -m pip install --upgrade pip' command.\u001b[0m\u001b[33m\n",
      "\u001b[0m"
     ]
    }
   ],
   "source": [
    "! pip install \"pymongo[srv]\"\n",
    "\n"
   ]
  },
  {
   "cell_type": "code",
   "execution_count": 4,
   "metadata": {},
   "outputs": [],
   "source": [
    "# Just making sure everything prints cleanly\n",
    "\n",
    "from pygments.style import Style\n",
    "from pygments.token import Token\n",
    "from pygments import highlight\n",
    "from pygments.lexers import JsonLexer\n",
    "from pygments.formatters import Terminal256Formatter\n",
    "\n",
    "\n",
    "class MyStyle(Style):\n",
    "    styles = {\n",
    "        Token.String: 'ansigreen',\n",
    "        Token.Literal: 'ansibrightyellow',\n",
    "        Token.Keyword: 'ansimagenta',\n",
    "        Token.Operator: 'ansibrightmagenta'\n",
    "    }\n",
    "\n",
    "def pp(doc):\n",
    "    formatted_json = json.dumps(json.loads(json_util.dumps(doc)), indent=4)\n",
    "    colorful_json = highlight(formatted_json, JsonLexer(), Terminal256Formatter(style=MyStyle))\n",
    "    print(colorful_json)"
   ]
  },
  {
   "cell_type": "markdown",
   "metadata": {},
   "source": [
    "Add parent to sys path to load config"
   ]
  },
  {
   "cell_type": "code",
   "execution_count": null,
   "metadata": {},
   "outputs": [],
   "source": [
    "import sys\n",
    "import os\n",
    "\n",
    "sys.path.append(\"..\")"
   ]
  },
  {
   "cell_type": "code",
   "execution_count": 5,
   "metadata": {},
   "outputs": [],
   "source": [
    "import pymongo\n",
    "from bson import json_util\n",
    "from config import mongo_uri\n",
    "import json\n",
    "    \n",
    "conn = pymongo.MongoClient(mongo_uri)\n",
    "\n",
    "database = conn['AGGREGATIONS']"
   ]
  }
 ],
 "metadata": {
  "kernelspec": {
   "display_name": "Python 3.10.4 ('.venv': venv)",
   "language": "python",
   "name": "python3"
  },
  "language_info": {
   "codemirror_mode": {
    "name": "ipython",
    "version": 3
   },
   "file_extension": ".py",
   "mimetype": "text/x-python",
   "name": "python",
   "nbconvert_exporter": "python",
   "pygments_lexer": "ipython3",
   "version": "3.10.4"
  },
  "orig_nbformat": 4,
  "vscode": {
   "interpreter": {
    "hash": "096de7c889c2925c6c124eae9a2541e4a1ed9388eb8f37fe3cc01a5ba2550484"
   }
  }
 },
 "nbformat": 4,
 "nbformat_minor": 2
}
